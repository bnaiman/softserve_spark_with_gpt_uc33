{
 "cells": [
  {
   "cell_type": "code",
   "execution_count": 1,
   "id": "41a49a37-2127-43c3-bfd6-81aabcb04b5f",
   "metadata": {},
   "outputs": [
    {
     "data": {
      "text/plain": [
       "[682, 910, 317, 283, 905]"
      ]
     },
     "execution_count": 1,
     "metadata": {},
     "output_type": "execute_result"
    }
   ],
   "source": [
    "import pyspark  \n",
    "\n",
    "sc = pyspark.SparkContext('local[*]') \n",
    "\n",
    "# do something to prove it works \n",
    "\n",
    "rdd = sc.parallelize(range(1000)) \n",
    "\n",
    "rdd.takeSample(False, 5) "
   ]
  },
  {
   "cell_type": "code",
   "execution_count": 4,
   "id": "5c02edf4-049f-46fc-81d6-957722bd742e",
   "metadata": {},
   "outputs": [],
   "source": [
    "from pyspark.sql import SparkSession\n",
    "\n",
    "# Create a Spark session\n",
    "spark = SparkSession.builder.appName(\"CSV Reader\").getOrCreate()"
   ]
  },
  {
   "cell_type": "code",
   "execution_count": 12,
   "id": "228d9b9e-d5d9-442c-b4a8-a95f6263d304",
   "metadata": {},
   "outputs": [],
   "source": [
    "df = spark.read.csv(\"accounts.csv\", header=True, inferSchema=True)"
   ]
  },
  {
   "cell_type": "code",
   "execution_count": 13,
   "id": "2064248b-ad5d-4b6e-b202-9102ed1e3bca",
   "metadata": {},
   "outputs": [
    {
     "name": "stdout",
     "output_type": "stream",
     "text": [
      "500000\n"
     ]
    }
   ],
   "source": [
    "print(df.count())"
   ]
  },
  {
   "cell_type": "code",
   "execution_count": 14,
   "id": "f6cea1ea-3313-49aa-a08a-da72b26772b2",
   "metadata": {},
   "outputs": [],
   "source": [
    "df2 = spark.read.csv(\"country_abbreviation.csv\", header=True, inferSchema=True)"
   ]
  },
  {
   "cell_type": "code",
   "execution_count": 15,
   "id": "f1392a4d-b992-477d-86e3-a08032a79e0e",
   "metadata": {},
   "outputs": [
    {
     "name": "stdout",
     "output_type": "stream",
     "text": [
      "121\n"
     ]
    }
   ],
   "source": [
    "print(df2.count())"
   ]
  },
  {
   "cell_type": "code",
   "execution_count": 16,
   "id": "683f3d50-28d8-4c41-8e3c-941a7d7f35c9",
   "metadata": {},
   "outputs": [
    {
     "name": "stdout",
     "output_type": "stream",
     "text": [
      "5000000\n"
     ]
    }
   ],
   "source": [
    "df3 = spark.read.csv(\"transactions.csv\", header=True, inferSchema=True)\n",
    "print(df3.count())"
   ]
  },
  {
   "cell_type": "code",
   "execution_count": null,
   "id": "ffeae533-86b5-4ef3-88af-ef366d17a784",
   "metadata": {},
   "outputs": [],
   "source": []
  }
 ],
 "metadata": {
  "kernelspec": {
   "display_name": "Python 3 (ipykernel)",
   "language": "python",
   "name": "python3"
  },
  "language_info": {
   "codemirror_mode": {
    "name": "ipython",
    "version": 3
   },
   "file_extension": ".py",
   "mimetype": "text/x-python",
   "name": "python",
   "nbconvert_exporter": "python",
   "pygments_lexer": "ipython3",
   "version": "3.11.4"
  }
 },
 "nbformat": 4,
 "nbformat_minor": 5
}
